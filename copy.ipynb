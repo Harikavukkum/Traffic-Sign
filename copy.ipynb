{
 "cells": [
  {
   "cell_type": "code",
   "execution_count": 2,
   "id": "8557ebae",
   "metadata": {
    "_cell_guid": "b1076dfc-b9ad-4769-8c92-a6c4dae69d19",
    "_uuid": "8f2839f25d086af736a60e9eeb907d3b93b6e0e5",
    "papermill": {
     "duration": 5.477404,
     "end_time": "2023-01-09T16:27:08.307096",
     "exception": false,
     "start_time": "2023-01-09T16:27:02.829692",
     "status": "completed"
    },
    "tags": []
   },
   "outputs": [
    {
     "ename": "ModuleNotFoundError",
     "evalue": "No module named 'tensorflow'",
     "output_type": "error",
     "traceback": [
      "\u001b[1;31m---------------------------------------------------------------------------\u001b[0m",
      "\u001b[1;31mModuleNotFoundError\u001b[0m                       Traceback (most recent call last)",
      "Cell \u001b[1;32mIn[2], line 11\u001b[0m\n\u001b[0;32m      9\u001b[0m \u001b[38;5;28;01mfrom\u001b[39;00m \u001b[38;5;21;01mPIL\u001b[39;00m \u001b[38;5;28;01mimport\u001b[39;00m Image\n\u001b[0;32m     10\u001b[0m \u001b[38;5;28;01mimport\u001b[39;00m \u001b[38;5;21;01mpandas\u001b[39;00m \u001b[38;5;28;01mas\u001b[39;00m \u001b[38;5;21;01mpd\u001b[39;00m\n\u001b[1;32m---> 11\u001b[0m \u001b[38;5;28;01mimport\u001b[39;00m \u001b[38;5;21;01mtensorflow\u001b[39;00m \u001b[38;5;28;01mas\u001b[39;00m \u001b[38;5;21;01mtf\u001b[39;00m\n\u001b[0;32m     12\u001b[0m \u001b[38;5;28;01mimport\u001b[39;00m \u001b[38;5;21;01mtensorflow\u001b[39;00m\u001b[38;5;21;01m.\u001b[39;00m\u001b[38;5;21;01mkeras\u001b[39;00m\u001b[38;5;21;01m.\u001b[39;00m\u001b[38;5;21;01mlayers\u001b[39;00m \u001b[38;5;28;01mas\u001b[39;00m \u001b[38;5;21;01mtfl\u001b[39;00m\n\u001b[0;32m     13\u001b[0m \u001b[38;5;28;01mfrom\u001b[39;00m \u001b[38;5;21;01mtensorflow\u001b[39;00m\u001b[38;5;21;01m.\u001b[39;00m\u001b[38;5;21;01mpython\u001b[39;00m\u001b[38;5;21;01m.\u001b[39;00m\u001b[38;5;21;01mframework\u001b[39;00m \u001b[38;5;28;01mimport\u001b[39;00m ops\n",
      "\u001b[1;31mModuleNotFoundError\u001b[0m: No module named 'tensorflow'"
     ]
    }
   ],
   "source": [
    "\n",
    "\n",
    "import numpy as np # linear algebra\n",
    "import pandas as pd # data processing, CSV file I/O (e.g. pd.read_csv)\n",
    "import math\n",
    "import h5py\n",
    "import matplotlib.pyplot as plt\n",
    "from matplotlib.pyplot import imread\n",
    "import scipy\n",
    "# import cv2\n",
    "from PIL import Image\n",
    "import pandas as pd\n",
    "import tensorflow as tf\n",
    "import tensorflow.keras.layers as tfl\n",
    "from tensorflow.python.framework import ops\n",
    "\n",
    "\n",
    "import os\n",
    "\n",
    "train_path = 'Train'\n",
    "\n",
    "# You can write up to 20GB to the current directory (/kaggle/working/) that gets preserved as output when you create a version using \"Save & Run All\" \n",
    "# You can also write temporary files to /kaggle/temp/, but they won't be saved outside of the current session"
   ]
  },
  {
   "cell_type": "code",
   "execution_count": 8,
   "id": "807e362b",
   "metadata": {},
   "outputs": [
    {
     "name": "stderr",
     "output_type": "stream",
     "text": [
      "Using TensorFlow backend.\n"
     ]
    }
   ],
   "source": [
    "from keras.utils.np_utils import to_categorical\n",
    "from keras.layers import  MaxPooling2D\n",
    "from keras.layers import Dense, Dropout, Activation, Flatten\n",
    "from keras.layers import Convolution2D\n",
    "from keras.models import Sequential"
   ]
  },
  {
   "cell_type": "code",
   "execution_count": 18,
   "id": "d1a0ef8c",
   "metadata": {},
   "outputs": [],
   "source": [
    "from sklearn.metrics import accuracy_score\n",
    "from sklearn.metrics import confusion_matrix\n",
    "from sklearn.metrics import precision_score\n",
    "from sklearn.metrics import recall_score\n",
    "from sklearn.metrics import f1_score"
   ]
  },
  {
   "cell_type": "markdown",
   "id": "5642afa5",
   "metadata": {
    "papermill": {
     "duration": 0.004151,
     "end_time": "2023-01-09T16:27:08.315432",
     "exception": false,
     "start_time": "2023-01-09T16:27:08.311281",
     "status": "completed"
    },
    "tags": []
   },
   "source": [
    " In 'Train' folder directories are created by class numbers based.\n",
    " Train/class_num/class_num_images"
   ]
  },
  {
   "cell_type": "code",
   "execution_count": 2,
   "id": "af8e7c6d",
   "metadata": {
    "execution": {
     "iopub.execute_input": "2023-01-09T16:27:08.325286Z",
     "iopub.status.busy": "2023-01-09T16:27:08.324712Z",
     "iopub.status.idle": "2023-01-09T16:27:20.449235Z",
     "shell.execute_reply": "2023-01-09T16:27:20.448222Z"
    },
    "papermill": {
     "duration": 12.131676,
     "end_time": "2023-01-09T16:27:20.451314",
     "exception": false,
     "start_time": "2023-01-09T16:27:08.319638",
     "status": "completed"
    },
    "tags": []
   },
   "outputs": [
    {
     "data": {
      "text/plain": [
       "<BarContainer object of 43 artists>"
      ]
     },
     "execution_count": 2,
     "metadata": {},
     "output_type": "execute_result"
    },
    {
     "data": {
      "image/png": "[encoded data removed]",
      "text/plain": [
       "<Figure size 1512x720 with 1 Axes>"
      ]
     },
     "metadata": {
      "needs_background": "light"
     },
     "output_type": "display_data"
    }
   ],
   "source": [
    "# let's see how many images are there per classes\n",
    "folders = os.listdir(train_path)\n",
    "#class_num:no.of samples\n",
    "samples_dict = {} \n",
    "\n",
    "for folder in folders:\n",
    "    images_in_folder = os.listdir(train_path + '/' + folder)\n",
    "    samples_dict[folder] = len(images_in_folder)\n",
    "    \n",
    "plt.figure(figsize=(21,10))  \n",
    "plt.bar(*zip(*samples_dict.items()))"
   ]
  },
  {
   "cell_type": "code",
   "execution_count": 3,
   "id": "361327de",
   "metadata": {
    "execution": {
     "iopub.execute_input": "2023-01-09T16:27:20.462664Z",
     "iopub.status.busy": "2023-01-09T16:27:20.460980Z",
     "iopub.status.idle": "2023-01-09T16:27:20.665566Z",
     "shell.execute_reply": "2023-01-09T16:27:20.662766Z"
    },
    "papermill": {
     "duration": 0.21429,
     "end_time": "2023-01-09T16:27:20.669882",
     "exception": false,
     "start_time": "2023-01-09T16:27:20.455592",
     "status": "completed"
    },
    "tags": []
   },
   "outputs": [
    {
     "name": "stdout",
     "output_type": "stream",
     "text": [
      "--> Checking for physical Tensorflow devices\n",
      ": /physical_device:CPU:0\n",
      ": /physical_device:XLA_CPU:0\n",
      ": /physical_device:GPU:0\n",
      ": /physical_device:XLA_GPU:0\n"
     ]
    }
   ],
   "source": [
    "print(\"--> Checking for physical Tensorflow devices\")\n",
    "for device in tf.config.list_physical_devices():\n",
    "    print(\": {}\".format(device.name))"
   ]
  },
  {
   "cell_type": "markdown",
   "id": "efbbd5c1",
   "metadata": {
    "papermill": {
     "duration": 0.004345,
     "end_time": "2023-01-09T16:27:20.679364",
     "exception": false,
     "start_time": "2023-01-09T16:27:20.675019",
     "status": "completed"
    },
    "tags": []
   },
   "source": [
    "**Processing the training data**"
   ]
  },
  {
   "cell_type": "code",
   "execution_count": 4,
   "id": "f113befd",
   "metadata": {
    "execution": {
     "iopub.execute_input": "2023-01-09T16:27:20.690264Z",
     "iopub.status.busy": "2023-01-09T16:27:20.689370Z",
     "iopub.status.idle": "2023-01-09T16:32:18.363862Z",
     "shell.execute_reply": "2023-01-09T16:32:18.362534Z"
    },
    "papermill": {
     "duration": 297.686258,
     "end_time": "2023-01-09T16:32:18.369711",
     "exception": false,
     "start_time": "2023-01-09T16:27:20.683453",
     "status": "completed"
    },
    "tags": []
   },
   "outputs": [
    {
     "name": "stdout",
     "output_type": "stream",
     "text": [
      "(39209, 30, 30, 3) (39209,)\n"
     ]
    }
   ],
   "source": [
    "\n",
    "    image_data = []\n",
    "    image_labels = []\n",
    "    class_num = len(os.listdir(train_path))\n",
    "    for i in range(class_num):\n",
    "        path = train_path +'/'+ str(i)\n",
    "        images = os.listdir(path)\n",
    "\n",
    "        for img in images:\n",
    "            try:\n",
    "                    \n",
    "                #print(path+'/'+img)\n",
    "                    image = cv2.imread(path + '/' + img)\n",
    "                    image_fromarray = Image.fromarray(image, 'RGB')\n",
    "                    resize_image = image_fromarray.resize((30, 30))\n",
    "                    image_data.append(np.array(resize_image))\n",
    "                    image_labels.append(i)\n",
    "            except:\n",
    "                print(\"Error in \" + img)\n",
    "\n",
    "image_data = np.array(image_data)\n",
    "image_labels = np.array(image_labels)\n",
    "print(image_data.shape, image_labels.shape)"
   ]
  },
  {
   "cell_type": "code",
   "execution_count": 5,
   "id": "0151d8ac",
   "metadata": {
    "execution": {
     "iopub.execute_input": "2023-01-09T16:32:18.385285Z",
     "iopub.status.busy": "2023-01-09T16:32:18.384843Z",
     "iopub.status.idle": "2023-01-09T16:32:19.595934Z",
     "shell.execute_reply": "2023-01-09T16:32:19.594852Z"
    },
    "papermill": {
     "duration": 1.220755,
     "end_time": "2023-01-09T16:32:19.598804",
     "exception": false,
     "start_time": "2023-01-09T16:32:18.378049",
     "status": "completed"
    },
    "tags": []
   },
   "outputs": [
    {
     "name": "stdout",
     "output_type": "stream",
     "text": [
      "X_train.shape (31367, 30, 30, 3)\n",
      "X_valid.shape (7842, 30, 30, 3)\n",
      "y_train.shape (31367, 43)\n",
      "y_valid.shape (7842, 43)\n"
     ]
    }
   ],
   "source": [
    "from sklearn.model_selection import train_test_split\n",
    "from tensorflow.keras.utils import to_categorical\n",
    "\n",
    "X_train, X_val, y_train, y_val = train_test_split(image_data, image_labels, test_size=0.2, random_state=42, shuffle=True)\n",
    "X_train = X_train/255 \n",
    "X_val = X_val/255\n",
    "\n",
    "y_train = to_categorical(y_train, class_num)\n",
    "y_val = to_categorical(y_val, class_num)\n",
    "\n",
    "print(\"X_train.shape\", X_train.shape)\n",
    "print(\"X_valid.shape\", X_val.shape)\n",
    "print(\"y_train.shape\", y_train.shape)\n",
    "print(\"y_valid.shape\", y_val.shape)"
   ]
  },
  {
   "cell_type": "markdown",
   "id": "cade7b14",
   "metadata": {
    "papermill": {
     "duration": 0.004567,
     "end_time": "2023-01-09T16:32:19.608266",
     "exception": false,
     "start_time": "2023-01-09T16:32:19.603699",
     "status": "completed"
    },
    "tags": []
   },
   "source": [
    "# RCNN"
   ]
  },
  {
   "cell_type": "code",
   "execution_count": 13,
   "id": "1b32870e",
   "metadata": {},
   "outputs": [],
   "source": [
    "classifier = Sequential()\n",
    "classifier.add(Convolution2D(16, 3, 3, input_shape = (30, 30, 3), activation = 'relu'))\n",
    "classifier.add(MaxPooling2D(pool_size = (2, 2)))\n",
    "classifier.add(Convolution2D(16, 3, 3, activation = 'relu'))\n",
    "classifier.add(Flatten())\n",
    "classifier.add(Dense(256, activation = 'relu'))\n",
    "classifier.add(Dense(43, activation = 'softmax'))\n",
    "classifier.compile(optimizer = 'adam', loss = 'categorical_crossentropy', metrics = ['accuracy'])"
   ]
  },
  {
   "cell_type": "code",
   "execution_count": 16,
   "id": "d037f554",
   "metadata": {},
   "outputs": [
    {
     "name": "stdout",
     "output_type": "stream",
     "text": [
      "Epoch 1/10\n",
      "1961/1961 - 6s - loss: 2.2400 - accuracy: 0.3559 - val_loss: 1.5904 - val_accuracy: 0.5080\n",
      "Epoch 2/10\n",
      "1961/1961 - 6s - loss: 1.3618 - accuracy: 0.5774 - val_loss: 1.2209 - val_accuracy: 0.6317\n",
      "Epoch 3/10\n",
      "1961/1961 - 6s - loss: 1.1443 - accuracy: 0.6440 - val_loss: 1.0781 - val_accuracy: 0.6678\n",
      "Epoch 4/10\n",
      "1961/1961 - 6s - loss: 1.0085 - accuracy: 0.6843 - val_loss: 0.9987 - val_accuracy: 0.6771\n",
      "Epoch 5/10\n",
      "1961/1961 - 6s - loss: 0.9106 - accuracy: 0.7135 - val_loss: 0.9222 - val_accuracy: 0.7061\n",
      "Epoch 6/10\n",
      "1961/1961 - 6s - loss: 0.8394 - accuracy: 0.7355 - val_loss: 0.8572 - val_accuracy: 0.7257\n",
      "Epoch 7/10\n",
      "1961/1961 - 6s - loss: 0.7810 - accuracy: 0.7517 - val_loss: 0.8825 - val_accuracy: 0.7313\n",
      "Epoch 8/10\n",
      "1961/1961 - 6s - loss: 0.7365 - accuracy: 0.7660 - val_loss: 0.7630 - val_accuracy: 0.7580\n",
      "Epoch 9/10\n",
      "1961/1961 - 6s - loss: 0.6950 - accuracy: 0.7807 - val_loss: 0.7252 - val_accuracy: 0.7716\n",
      "Epoch 10/10\n",
      "1961/1961 - 6s - loss: 0.6595 - accuracy: 0.7909 - val_loss: 0.7515 - val_accuracy: 0.7613\n"
     ]
    }
   ],
   "source": [
    "hist = classifier.fit(X_train, y_train, batch_size=16, epochs=10, shuffle=True, verbose=2, validation_data=(X_val,y_val))"
   ]
  },
  {
   "cell_type": "code",
   "execution_count": 17,
   "id": "3d4ea8b8",
   "metadata": {},
   "outputs": [],
   "source": [
    "classifier.save('rcnn.h5')"
   ]
  },
  {
   "cell_type": "markdown",
   "id": "69bdd9ab",
   "metadata": {},
   "source": [
    "# LSTM + CNN"
   ]
  },
  {
   "cell_type": "code",
   "execution_count": 21,
   "id": "52d7c111",
   "metadata": {},
   "outputs": [
    {
     "name": "stdout",
     "output_type": "stream",
     "text": [
      "(39209, 30, 30, 3) (39209,)\n"
     ]
    }
   ],
   "source": [
    "\n",
    "    image_data = []\n",
    "    image_labels = []\n",
    "    class_num = len(os.listdir(train_path))\n",
    "    for i in range(class_num):\n",
    "        path = train_path +'/'+ str(i)\n",
    "        images = os.listdir(path)\n",
    "\n",
    "        for img in images:\n",
    "            try:\n",
    "                    \n",
    "                #print(path+'/'+img)\n",
    "                    image = cv2.imread(path + '/' + img)\n",
    "                    image_fromarray = Image.fromarray(image, 'RGB')\n",
    "                    resize_image = image_fromarray.resize((30, 30))\n",
    "                    image_data.append(np.array(resize_image))\n",
    "                    image_labels.append(i)\n",
    "            except:\n",
    "                print(\"Error in \" + img)\n",
    "\n",
    "image_data = np.array(image_data)\n",
    "image_labels = np.array(image_labels)\n",
    "print(image_data.shape, image_labels.shape)"
   ]
  },
  {
   "cell_type": "code",
   "execution_count": 22,
   "id": "60138d76",
   "metadata": {},
   "outputs": [],
   "source": [
    "X_train, X_val, X_train, y_val = train_test_split(image_data, image_labels, test_size=0.2, random_state=42, shuffle=True)\n",
    "X_train = X_train/255 \n",
    "X_val = X_val/255"
   ]
  },
  {
   "cell_type": "code",
   "execution_count": 24,
   "id": "27aed189",
   "metadata": {},
   "outputs": [
    {
     "data": {
      "text/plain": [
       "(7842,)"
      ]
     },
     "execution_count": 24,
     "metadata": {},
     "output_type": "execute_result"
    }
   ],
   "source": [
    "y_val.shape"
   ]
  },
  {
   "cell_type": "code",
   "execution_count": 28,
   "id": "9f10e80c",
   "metadata": {},
   "outputs": [
    {
     "data": {
      "text/plain": [
       "(31367, 30, 30, 3)"
      ]
     },
     "execution_count": 28,
     "metadata": {},
     "output_type": "execute_result"
    }
   ],
   "source": [
    "X_train.shape"
   ]
  },
  {
   "cell_type": "code",
   "execution_count": 25,
   "id": "4e2b9806",
   "metadata": {},
   "outputs": [],
   "source": [
    "import keras\n",
    "from keras.models import Sequential\n",
    "#from keras.layers import Dense, Conv2D , MaxPool2D , Flatten , Dropout,LSTM\n",
    "from keras.preprocessing.image import ImageDataGenerator\n",
    "from tensorflow.keras.optimizers import Adam\n",
    "from keras.layers import TimeDistributed, Conv2D, MaxPooling2D, Flatten, Dropout, Dense,LSTM"
   ]
  },
  {
   "cell_type": "code",
   "execution_count": 26,
   "id": "695e394b",
   "metadata": {},
   "outputs": [],
   "source": [
    "datagen = ImageDataGenerator(\n",
    "       featurewise_center=False,  \n",
    "       samplewise_center=False,  \n",
    "       featurewise_std_normalization=False,  \n",
    "       samplewise_std_normalization=False,  \n",
    "       zca_whitening=False,  \n",
    "       rotation_range = 90, \n",
    "       zoom_range = 0.5, \n",
    "       width_shift_range=0.2,  \n",
    "       height_shift_range=0.2,  \n",
    "       horizontal_flip = True,  \n",
    "       \n",
    ")"
   ]
  },
  {
   "cell_type": "code",
   "execution_count": 27,
   "id": "82796967",
   "metadata": {},
   "outputs": [],
   "source": [
    "datagen.fit(X_train)\n",
    "datagen.fit(X_val)"
   ]
  },
  {
   "cell_type": "code",
   "execution_count": 29,
   "id": "51f00bd8",
   "metadata": {},
   "outputs": [],
   "source": [
    "x_train = np.array(X_train).reshape(31367,1,30,30, 3)\n",
    "x_test = np.array(X_val).reshape(7842,1,30,30, 3)"
   ]
  },
  {
   "cell_type": "code",
   "execution_count": 30,
   "id": "d24fef57",
   "metadata": {},
   "outputs": [
    {
     "name": "stdout",
     "output_type": "stream",
     "text": [
      "x_train: (31367, 1, 30, 30, 3)\n",
      "y_train: (31367,)\n"
     ]
    }
   ],
   "source": [
    "print(\"x_train:\",x_train.shape)\n",
    "print(\"y_train:\",y_train.shape)"
   ]
  },
  {
   "cell_type": "code",
   "execution_count": 35,
   "id": "60928417",
   "metadata": {},
   "outputs": [],
   "source": [
    "model = Sequential()\n",
    "model.add(TimeDistributed(Conv2D(64,(3,3),activation='relu'),input_shape=(1,30,30,3)))\n",
    "model.add(TimeDistributed(MaxPooling2D(pool_size=(2,2))))\n",
    "\n",
    "model.add(TimeDistributed(Conv2D(32,(3,3),activation='relu')))\n",
    "#model_mix_shoulder.add(TimeDistributed(Conv2D(128,(3,3),activation='relu')))\n",
    "#model_mix_shoulder.add(TimeDistributed(Conv2D(56,(3,3),activation='relu')))\n",
    "model.add(TimeDistributed(MaxPooling2D(pool_size=(2,2))))\n",
    "\n",
    "#model_mix_shoulder.add(TimeDistributed(Conv2D(256,(3,3),activation='relu')))\n",
    "#model_mix_shoulder.add(TimeDistributed(MaxPooling2D(pool_size=(2,2))))\n",
    "\n",
    "\n",
    "model.add(TimeDistributed(Flatten()))\n",
    "\n",
    "#RNN\n",
    "model.add(LSTM(100,return_sequences=False))\n",
    "\n",
    "model.add(Dense(2,activation='sigmoid'))"
   ]
  },
  {
   "cell_type": "code",
   "execution_count": 36,
   "id": "e1ebcbe8",
   "metadata": {},
   "outputs": [],
   "source": [
    "model.compile(loss = 'sparse_categorical_crossentropy', optimizer = 'adam', metrics = ['accuracy'])"
   ]
  },
  {
   "cell_type": "code",
   "execution_count": 37,
   "id": "9a7f6b41",
   "metadata": {},
   "outputs": [
    {
     "name": "stdout",
     "output_type": "stream",
     "text": [
      "Epoch 1/25\n",
      "981/981 [==============================] - 25s 25ms/step - loss: nan - accuracy: 0.0055 - val_loss: nan - val_accuracy: 0.0048\n",
      "Epoch 2/25\n",
      "981/981 [==============================] - 24s 24ms/step - loss: nan - accuracy: 0.0055 - val_loss: nan - val_accuracy: 0.0048\n",
      "Epoch 3/25\n",
      "981/981 [==============================] - 24s 24ms/step - loss: nan - accuracy: 0.0055 - val_loss: nan - val_accuracy: 0.0048\n",
      "Epoch 4/25\n",
      "981/981 [==============================] - 24s 24ms/step - loss: nan - accuracy: 0.0055 - val_loss: nan - val_accuracy: 0.0048\n",
      "Epoch 5/25\n",
      "981/981 [==============================] - 24s 24ms/step - loss: nan - accuracy: 0.0055 - val_loss: nan - val_accuracy: 0.0048\n",
      "Epoch 6/25\n",
      "981/981 [==============================] - 24s 24ms/step - loss: nan - accuracy: 0.0055 - val_loss: nan - val_accuracy: 0.0048\n",
      "Epoch 7/25\n",
      "981/981 [==============================] - 24s 24ms/step - loss: nan - accuracy: 0.0055 - val_loss: nan - val_accuracy: 0.0048\n",
      "Epoch 8/25\n",
      "981/981 [==============================] - 24s 24ms/step - loss: nan - accuracy: 0.0055 - val_loss: nan - val_accuracy: 0.0048\n",
      "Epoch 9/25\n",
      "981/981 [==============================] - 24s 24ms/step - loss: nan - accuracy: 0.0055 - val_loss: nan - val_accuracy: 0.0048\n",
      "Epoch 10/25\n",
      "981/981 [==============================] - 24s 24ms/step - loss: nan - accuracy: 0.0055 - val_loss: nan - val_accuracy: 0.0048\n",
      "Epoch 11/25\n",
      "981/981 [==============================] - 24s 25ms/step - loss: nan - accuracy: 0.0055 - val_loss: nan - val_accuracy: 0.0048\n",
      "Epoch 12/25\n",
      "981/981 [==============================] - 24s 24ms/step - loss: nan - accuracy: 0.0055 - val_loss: nan - val_accuracy: 0.0048\n",
      "Epoch 13/25\n",
      "981/981 [==============================] - 24s 24ms/step - loss: nan - accuracy: 0.0055 - val_loss: nan - val_accuracy: 0.0048\n",
      "Epoch 14/25\n",
      "981/981 [==============================] - 24s 24ms/step - loss: nan - accuracy: 0.0055 - val_loss: nan - val_accuracy: 0.0048\n",
      "Epoch 15/25\n",
      "981/981 [==============================] - 24s 24ms/step - loss: nan - accuracy: 0.0055 - val_loss: nan - val_accuracy: 0.0048\n",
      "Epoch 16/25\n",
      "981/981 [==============================] - 24s 24ms/step - loss: nan - accuracy: 0.0055 - val_loss: nan - val_accuracy: 0.0048\n",
      "Epoch 17/25\n",
      "981/981 [==============================] - 24s 24ms/step - loss: nan - accuracy: 0.0055 - val_loss: nan - val_accuracy: 0.0048\n",
      "Epoch 18/25\n",
      "981/981 [==============================] - 24s 24ms/step - loss: nan - accuracy: 0.0055 - val_loss: nan - val_accuracy: 0.0048\n",
      "Epoch 19/25\n",
      "981/981 [==============================] - 24s 24ms/step - loss: nan - accuracy: 0.0055 - val_loss: nan - val_accuracy: 0.0048\n",
      "Epoch 20/25\n",
      "981/981 [==============================] - 24s 24ms/step - loss: nan - accuracy: 0.0055 - val_loss: nan - val_accuracy: 0.0048\n",
      "Epoch 21/25\n",
      "981/981 [==============================] - 24s 24ms/step - loss: nan - accuracy: 0.0055 - val_loss: nan - val_accuracy: 0.0048\n",
      "Epoch 22/25\n",
      "981/981 [==============================] - 24s 24ms/step - loss: nan - accuracy: 0.0055 - val_loss: nan - val_accuracy: 0.0048\n",
      "Epoch 23/25\n",
      "981/981 [==============================] - 24s 24ms/step - loss: nan - accuracy: 0.0055 - val_loss: nan - val_accuracy: 0.0048\n",
      "Epoch 24/25\n",
      "981/981 [==============================] - 24s 24ms/step - loss: nan - accuracy: 0.0055 - val_loss: nan - val_accuracy: 0.0048\n",
      "Epoch 25/25\n",
      "981/981 [==============================] - 24s 24ms/step - loss: nan - accuracy: 0.0055 - val_loss: nan - val_accuracy: 0.0048\n"
     ]
    }
   ],
   "source": [
    "history = model.fit(x_train,y_train,epochs = 25,validation_data = (x_test,y_val),shuffle=True,batch_size=32)"
   ]
  },
  {
   "cell_type": "code",
   "execution_count": 38,
   "id": "1405ccb1",
   "metadata": {},
   "outputs": [],
   "source": [
    "model.save('cnn-lstm.h5')"
   ]
  },
  {
   "cell_type": "code",
   "execution_count": null,
   "id": "8117595c",
   "metadata": {},
   "outputs": [],
   "source": []
  }
 ],
 "metadata": {
  "kernelspec": {
   "display_name": "Python 3 (ipykernel)",
   "language": "python",
   "name": "python3"
  },
  "language_info": {
   "codemirror_mode": {
    "name": "ipython",
    "version": 3
   },
   "file_extension": ".py",
   "mimetype": "text/x-python",
   "name": "python",
   "nbconvert_exporter": "python",
   "pygments_lexer": "ipython3",
   "version": "3.12.4"
  },
  "papermill": {
   "default_parameters": {},
   "duration": 14655.389371,
   "end_time": "2023-01-09T20:31:10.313056",
   "environment_variables": {},
   "exception": null,
   "input_path": "__notebook__.ipynb",
   "output_path": "__notebook__.ipynb",
   "parameters": {},
   "start_time": "2023-01-09T16:26:54.923685",
   "version": "2.3.4"
  }
 },
 "nbformat": 4,
 "nbformat_minor": 5
}
